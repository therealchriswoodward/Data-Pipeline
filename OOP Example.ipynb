{
 "cells": [
  {
   "cell_type": "markdown",
   "metadata": {},
   "source": [
    "# Object Oriented Programming in Data Cleaning\n",
    "***\n",
    "_**Just a quick disclaimer: This project is intentionally overengineered for the purpose of showing my OOP and coding skills. Cleaning data with Python is far simpler than this.**_\n",
    "***"
   ]
  },
  {
   "cell_type": "code",
   "execution_count": 43,
   "metadata": {},
   "outputs": [],
   "source": [
    "import pandas as pd"
   ]
  },
  {
   "cell_type": "code",
   "execution_count": 44,
   "metadata": {},
   "outputs": [],
   "source": [
    "class Cleaner:\n",
    "\n",
    "    def CleanCatData(self,data):\n",
    "        '''\n",
    "        # Cleans Categorical Data\n",
    "\n",
    "        ***\n",
    "\n",
    "        Takes in a Pandas data frame and uses a hard-coded regular\n",
    "        expression to remove any symbols, digits, and any spaces greater than\n",
    "        or equal to a double space.\n",
    "        ***\n",
    "        It switches all letters to lower-case, cleans with the regex,\n",
    "        capitalizes the first letter of the word, and strips away\n",
    "        any leading or trailing whitespace.\n",
    "        \n",
    "        * Note: .strip() appears to be a redundancy as some IDE's will\n",
    "        remove leading and trailing whitespace for readability whether \n",
    "        you clean it or not.'''\n",
    "        cleaned = data.str.lower().str.replace(r'[\\W\\d\\s+]','',regex=True).str.title().str.strip()\n",
    "        return cleaned\n",
    "    \n",
    "    def CleanNumData(self,data):\n",
    "        '''Takes in a Pandas dataframe of numeric values stored as object\n",
    "        and converts them to numeric form.\n",
    "        \n",
    "        Returns an numeric data frame.'''\n",
    "        cleaned = pd.to_numeric(data)\n",
    "        return cleaned\n",
    "    \n",
    "    def ObjectToCategory(self,data):\n",
    "        '''Takes in a Pandas data frame.\n",
    "        \n",
    "        Returns data frame as category data type.'''\n",
    "        cat = data.astype('category')\n",
    "        return cat\n",
    "    \n",
    "    def SimpleMovingAverage(self,data,i=None):\n",
    "        '''Creates a column for a simple moving average.\n",
    "        Takes in a Pandas data frame as well as the the\n",
    "        number of rolling periods (i).\n",
    "        \n",
    "        If no value for i is given, it defaults to 3.\n",
    "        \n",
    "        Returns a moving average column.'''\n",
    "        if i == None:\n",
    "            i = 3\n",
    "            mov = data.rolling(window=i).mean()\n",
    "        else:\n",
    "            mov = data.rolling(window=i).mean()\n",
    "        \n",
    "        return mov"
   ]
  },
  {
   "cell_type": "code",
   "execution_count": 45,
   "metadata": {},
   "outputs": [],
   "source": [
    "df = pd.DataFrame(\n",
    "    {\n",
    "        'Name' : [' C )(*&h    r 6789i(****s))',\n",
    "                  ' d A &^%$#l 9876e',\n",
    "                  'rI9cK  ',\n",
    "                  's @a m  ',\n",
    "                  'sTEV  e9'],\n",
    "        'Id' : ['101','102','103','104','105'] # Pandas will handle this as num data if it's used as such\n",
    "    }\n",
    ")"
   ]
  },
  {
   "cell_type": "code",
   "execution_count": 46,
   "metadata": {},
   "outputs": [
    {
     "name": "stdout",
     "output_type": "stream",
     "text": [
      "                          Name   Id\n",
      "0   C )(*&h    r 6789i(****s))  101\n",
      "1             d A &^%$#l 9876e  102\n",
      "2                      rI9cK    103\n",
      "3                     s @a m    104\n",
      "4                     sTEV  e9  105\n",
      "<class 'pandas.core.frame.DataFrame'>\n",
      "RangeIndex: 5 entries, 0 to 4\n",
      "Data columns (total 2 columns):\n",
      " #   Column  Non-Null Count  Dtype \n",
      "---  ------  --------------  ----- \n",
      " 0   Name    5 non-null      object\n",
      " 1   Id      5 non-null      object\n",
      "dtypes: object(2)\n",
      "memory usage: 212.0+ bytes\n"
     ]
    }
   ],
   "source": [
    "# Viewing the data\n",
    "print(df.head())\n",
    "\n",
    "# Viewing the information\n",
    "df.info()"
   ]
  },
  {
   "cell_type": "code",
   "execution_count": 47,
   "metadata": {},
   "outputs": [],
   "source": [
    "# Create an instance of the Cleaner class\n",
    "cleaner = Cleaner()"
   ]
  },
  {
   "cell_type": "code",
   "execution_count": 48,
   "metadata": {},
   "outputs": [
    {
     "name": "stdout",
     "output_type": "stream",
     "text": [
      "    Name   Id\n",
      "0  Chris  101\n",
      "1   Dale  102\n",
      "2   Rick  103\n",
      "3    Sam  104\n",
      "4  Steve  105\n",
      "<class 'pandas.core.frame.DataFrame'>\n",
      "RangeIndex: 5 entries, 0 to 4\n",
      "Data columns (total 2 columns):\n",
      " #   Column  Non-Null Count  Dtype \n",
      "---  ------  --------------  ----- \n",
      " 0   Name    5 non-null      object\n",
      " 1   Id      5 non-null      object\n",
      "dtypes: object(2)\n",
      "memory usage: 212.0+ bytes\n"
     ]
    }
   ],
   "source": [
    "# Cleaning 'Name'\n",
    "df['Name'] = cleaner.CleanCatData(df['Name'])\n",
    "\n",
    "# Checking work\n",
    "print(df.head())\n",
    "\n",
    "# Viewing data types\n",
    "df.info()"
   ]
  },
  {
   "cell_type": "code",
   "execution_count": 49,
   "metadata": {},
   "outputs": [
    {
     "name": "stdout",
     "output_type": "stream",
     "text": [
      "<class 'pandas.core.frame.DataFrame'>\n",
      "RangeIndex: 5 entries, 0 to 4\n",
      "Data columns (total 2 columns):\n",
      " #   Column  Non-Null Count  Dtype   \n",
      "---  ------  --------------  -----   \n",
      " 0   Name    5 non-null      category\n",
      " 1   Id      5 non-null      object  \n",
      "dtypes: category(1), object(1)\n",
      "memory usage: 389.0+ bytes\n"
     ]
    }
   ],
   "source": [
    "# Convert 'Name' to 'category' datatype\n",
    "df['Name'] = cleaner.ObjectToCategory(df['Name'])\n",
    "\n",
    "# Checking work\n",
    "df.info()"
   ]
  },
  {
   "cell_type": "code",
   "execution_count": 50,
   "metadata": {},
   "outputs": [
    {
     "name": "stdout",
     "output_type": "stream",
     "text": [
      "<class 'pandas.core.frame.DataFrame'>\n",
      "RangeIndex: 5 entries, 0 to 4\n",
      "Data columns (total 2 columns):\n",
      " #   Column  Non-Null Count  Dtype   \n",
      "---  ------  --------------  -----   \n",
      " 0   Name    5 non-null      category\n",
      " 1   Id      5 non-null      int64   \n",
      "dtypes: category(1), int64(1)\n",
      "memory usage: 389.0 bytes\n"
     ]
    }
   ],
   "source": [
    "# Changing 'Id' to numeric data type\n",
    "df['Id'] = cleaner.CleanNumData(df['Id'])\n",
    "\n",
    "# Checking work\n",
    "df.info()"
   ]
  },
  {
   "cell_type": "code",
   "execution_count": 51,
   "metadata": {},
   "outputs": [
    {
     "name": "stdout",
     "output_type": "stream",
     "text": [
      "    Name   Id  MovAvg\n",
      "0  Chris  101     NaN\n",
      "1   Dale  102     NaN\n",
      "2   Rick  103   102.0\n",
      "3    Sam  104   103.0\n",
      "4  Steve  105   104.0\n",
      "<class 'pandas.core.frame.DataFrame'>\n",
      "RangeIndex: 5 entries, 0 to 4\n",
      "Data columns (total 3 columns):\n",
      " #   Column  Non-Null Count  Dtype   \n",
      "---  ------  --------------  -----   \n",
      " 0   Name    5 non-null      category\n",
      " 1   Id      5 non-null      int64   \n",
      " 2   MovAvg  3 non-null      float64 \n",
      "dtypes: category(1), float64(1), int64(1)\n",
      "memory usage: 429.0 bytes\n"
     ]
    }
   ],
   "source": [
    "# Creating a simple moving average\n",
    "df['MovAvg'] = cleaner.SimpleMovingAverage(df['Id'],i=3)\n",
    "\n",
    "# Checking work\n",
    "print(df.head())\n",
    "df.info()"
   ]
  }
 ],
 "metadata": {
  "kernelspec": {
   "display_name": "Python 3",
   "language": "python",
   "name": "python3"
  },
  "language_info": {
   "codemirror_mode": {
    "name": "ipython",
    "version": 3
   },
   "file_extension": ".py",
   "mimetype": "text/x-python",
   "name": "python",
   "nbconvert_exporter": "python",
   "pygments_lexer": "ipython3",
   "version": "3.11.9"
  }
 },
 "nbformat": 4,
 "nbformat_minor": 2
}
